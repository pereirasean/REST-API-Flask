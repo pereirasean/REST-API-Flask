{
 "cells": [
  {
   "cell_type": "code",
   "execution_count": 1,
   "metadata": {},
   "outputs": [],
   "source": [
    "import sqlite3\n",
    "\n",
    "connection = sqlite3.connect('data.db')\n",
    "\n",
    "cursor = connection.cursor()\n",
    "\n",
    "# MUST BE INTEGER\n",
    "# This is the only place where int vs INTEGER matters—in auto-incrementing columns\n",
    "create_table = \"CREATE TABLE IF NOT EXISTS users (id INTEGER PRIMARY KEY, username text, password text)\"\n",
    "cursor.execute(create_table)\n",
    "\n",
    "create_table = \"CREATE TABLE IF NOT EXISTS items (name text PRIMARY KEY, price real)\"\n",
    "cursor.execute(create_table)\n",
    "\n",
    "connection.commit()\n",
    "\n",
    "connection.close()"
   ]
  },
  {
   "cell_type": "code",
   "execution_count": null,
   "metadata": {},
   "outputs": [],
   "source": []
  }
 ],
 "metadata": {
  "kernelspec": {
   "display_name": "Python 3",
   "language": "python",
   "name": "python3"
  },
  "language_info": {
   "codemirror_mode": {
    "name": "ipython",
    "version": 3
   },
   "file_extension": ".py",
   "mimetype": "text/x-python",
   "name": "python",
   "nbconvert_exporter": "python",
   "pygments_lexer": "ipython3",
   "version": "3.8.3"
  }
 },
 "nbformat": 4,
 "nbformat_minor": 4
}
